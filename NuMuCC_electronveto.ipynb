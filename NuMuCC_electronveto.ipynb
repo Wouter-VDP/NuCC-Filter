{
 "cells": [
  {
   "cell_type": "code",
   "execution_count": 1,
   "metadata": {},
   "outputs": [
    {
     "data": {
      "application/javascript": [
       "\n",
       "            setTimeout(function() {\n",
       "                var nbb_cell_id = 1;\n",
       "                var nbb_formatted_code = \"%load_ext autoreload\\n%matplotlib inline\\n%load_ext nb_black\";\n",
       "                var nbb_cells = Jupyter.notebook.get_cells();\n",
       "                for (var i = 0; i < nbb_cells.length; ++i) {\n",
       "                    if (nbb_cells[i].input_prompt_number == nbb_cell_id) {\n",
       "                        nbb_cells[i].set_text(nbb_formatted_code);\n",
       "                        break;\n",
       "                    }\n",
       "                }\n",
       "            }, 500);\n",
       "            "
      ],
      "text/plain": [
       "<IPython.core.display.Javascript object>"
      ]
     },
     "metadata": {},
     "output_type": "display_data"
    }
   ],
   "source": [
    "%load_ext autoreload\n",
    "%matplotlib inline\n",
    "%load_ext nb_black"
   ]
  },
  {
   "cell_type": "code",
   "execution_count": 2,
   "metadata": {},
   "outputs": [
    {
     "data": {
      "application/javascript": [
       "\n",
       "            setTimeout(function() {\n",
       "                var nbb_cell_id = 2;\n",
       "                var nbb_formatted_code = \"import uproot\\nimport matplotlib.pyplot as plt\\nimport numpy as np\\nimport pandas as pd\\nimport matplotlib.patches as patches\\nimport time\\nimport os\\nimport math\\nfrom IPython.display import display, clear_output\\nimport helpfunction as helper\\n\\npd.set_option(\\\"display.max_columns\\\", 500)\";\n",
       "                var nbb_cells = Jupyter.notebook.get_cells();\n",
       "                for (var i = 0; i < nbb_cells.length; ++i) {\n",
       "                    if (nbb_cells[i].input_prompt_number == nbb_cell_id) {\n",
       "                        nbb_cells[i].set_text(nbb_formatted_code);\n",
       "                        break;\n",
       "                    }\n",
       "                }\n",
       "            }, 500);\n",
       "            "
      ],
      "text/plain": [
       "<IPython.core.display.Javascript object>"
      ]
     },
     "metadata": {},
     "output_type": "display_data"
    }
   ],
   "source": [
    "import uproot\n",
    "import matplotlib.pyplot as plt\n",
    "import numpy as np\n",
    "import pandas as pd\n",
    "import matplotlib.patches as patches\n",
    "import time\n",
    "import os\n",
    "import math\n",
    "from IPython.display import display, clear_output\n",
    "import helpfunction as helper\n",
    "\n",
    "pd.set_option(\"display.max_columns\", 500)"
   ]
  },
  {
   "cell_type": "code",
   "execution_count": 3,
   "metadata": {},
   "outputs": [
    {
     "data": {
      "application/javascript": [
       "\n",
       "            setTimeout(function() {\n",
       "                var nbb_cell_id = 3;\n",
       "                var nbb_formatted_code = \"%autoreload\";\n",
       "                var nbb_cells = Jupyter.notebook.get_cells();\n",
       "                for (var i = 0; i < nbb_cells.length; ++i) {\n",
       "                    if (nbb_cells[i].input_prompt_number == nbb_cell_id) {\n",
       "                        nbb_cells[i].set_text(nbb_formatted_code);\n",
       "                        break;\n",
       "                    }\n",
       "                }\n",
       "            }, 500);\n",
       "            "
      ],
      "text/plain": [
       "<IPython.core.display.Javascript object>"
      ]
     },
     "metadata": {},
     "output_type": "display_data"
    }
   ],
   "source": [
    "%autoreload"
   ]
  },
  {
   "cell_type": "code",
   "execution_count": 4,
   "metadata": {},
   "outputs": [
    {
     "data": {
      "application/javascript": [
       "\n",
       "            setTimeout(function() {\n",
       "                var nbb_cell_id = 4;\n",
       "                var nbb_formatted_code = \"gr = (1 + 5 ** 0.5) / 2\\noutdir = \\\"./output/\\\"\\nmain_tree_name = \\\"NuCCanalyzer\\\"\\ntitle_mc_str = r\\\"$\\\\nu_\\\\mu$ CC Filter, MicroBooNE INTERNAL\\\"\";\n",
       "                var nbb_cells = Jupyter.notebook.get_cells();\n",
       "                for (var i = 0; i < nbb_cells.length; ++i) {\n",
       "                    if (nbb_cells[i].input_prompt_number == nbb_cell_id) {\n",
       "                        nbb_cells[i].set_text(nbb_formatted_code);\n",
       "                        break;\n",
       "                    }\n",
       "                }\n",
       "            }, 500);\n",
       "            "
      ],
      "text/plain": [
       "<IPython.core.display.Javascript object>"
      ]
     },
     "metadata": {},
     "output_type": "display_data"
    }
   ],
   "source": [
    "gr = (1 + 5 ** 0.5) / 2\n",
    "outdir = \"./output/\"\n",
    "main_tree_name = \"NuCCanalyzer\"\n",
    "title_mc_str = r\"$\\nu_\\mu$ CC Filter, MicroBooNE INTERNAL\""
   ]
  },
  {
   "cell_type": "code",
   "execution_count": 5,
   "metadata": {},
   "outputs": [
    {
     "data": {
      "application/javascript": [
       "\n",
       "            setTimeout(function() {\n",
       "                var nbb_cell_id = 5;\n",
       "                var nbb_formatted_code = \"fidvol_vtx = [10, 10, 10, 10, 10, 50]\\n\\nlower = [-1.55, -115.53, 0.1]\\nupper = [254.8, 117.47, 1036.9]\\n\\nmass_mu = 0.106\\nkin_min = 0.02\\nkin_min_mu = kin_min + mass_mu\\n\\ntot_pot = 13.2e20\";\n",
       "                var nbb_cells = Jupyter.notebook.get_cells();\n",
       "                for (var i = 0; i < nbb_cells.length; ++i) {\n",
       "                    if (nbb_cells[i].input_prompt_number == nbb_cell_id) {\n",
       "                        nbb_cells[i].set_text(nbb_formatted_code);\n",
       "                        break;\n",
       "                    }\n",
       "                }\n",
       "            }, 500);\n",
       "            "
      ],
      "text/plain": [
       "<IPython.core.display.Javascript object>"
      ]
     },
     "metadata": {},
     "output_type": "display_data"
    }
   ],
   "source": [
    "fidvol_vtx = [10, 10, 10, 10, 10, 50]\n",
    "\n",
    "lower = [-1.55, -115.53, 0.1]\n",
    "upper = [254.8, 117.47, 1036.9]\n",
    "\n",
    "mass_mu = 0.106\n",
    "kin_min = 0.02\n",
    "kin_min_mu = kin_min + mass_mu\n",
    "\n",
    "tot_pot = 13.2e20"
   ]
  },
  {
   "cell_type": "code",
   "execution_count": 6,
   "metadata": {},
   "outputs": [
    {
     "data": {
      "application/javascript": [
       "\n",
       "            setTimeout(function() {\n",
       "                var nbb_cell_id = 6;\n",
       "                var nbb_formatted_code = \"file_name = \\\"./input/run1/nucc_nue_overlay_run1_mcc9.root\\\"\\nfile = uproot.open(file_name)[main_tree_name]\";\n",
       "                var nbb_cells = Jupyter.notebook.get_cells();\n",
       "                for (var i = 0; i < nbb_cells.length; ++i) {\n",
       "                    if (nbb_cells[i].input_prompt_number == nbb_cell_id) {\n",
       "                        nbb_cells[i].set_text(nbb_formatted_code);\n",
       "                        break;\n",
       "                    }\n",
       "                }\n",
       "            }, 500);\n",
       "            "
      ],
      "text/plain": [
       "<IPython.core.display.Javascript object>"
      ]
     },
     "metadata": {},
     "output_type": "display_data"
    }
   ],
   "source": [
    "file_name = \"./input/run1/nucc_nue_overlay_run1_mcc9.root\"\n",
    "file = uproot.open(file_name)[main_tree_name]"
   ]
  },
  {
   "cell_type": "code",
   "execution_count": 7,
   "metadata": {},
   "outputs": [
    {
     "name": "stdout",
     "output_type": "stream",
     "text": [
      "-- Delta NC radiative --\n",
      "events: 93120\n",
      "pot: 4.36e+23\n",
      "selected: 2058.0, passing fraction: 2.21%\n",
      "selected per 1.32e+21: 6.2\n"
     ]
    },
    {
     "data": {
      "application/javascript": [
       "\n",
       "            setTimeout(function() {\n",
       "                var nbb_cell_id = 7;\n",
       "                var nbb_formatted_code = \"print(\\\"-- Delta NC radiative --\\\")\\nfile_name_dnc = \\\"./input/run1/nucc_ncdelta_overlay_run1_mcc9.root\\\"\\ndnc_events = uproot.open(file_name_dnc)[main_tree_name][\\\"Event\\\"]\\ndnc_subruns = uproot.open(file_name_dnc)[main_tree_name][\\\"subruns\\\"]\\n\\ndnc_pot = sum(dnc_subruns.array(\\\"pot\\\"))\\nscale_pot = dnc_pot / tot_pot\\ntot_events_weighted = sum(dnc_events.array(\\\"event_weight\\\"))\\nsel_weighted = sum(\\n    dnc_events.array(\\\"nu_mu_cc_selected\\\") * dnc_events.array(\\\"event_weight\\\")\\n)\\n\\nprint(\\\"events: {:0.0f}\\\".format(tot_events_weighted))\\nprint(\\\"pot: {:0.3g}\\\".format(dnc_pot))\\nprint(\\n    \\\"selected: {:0.1f}, passing fraction: {:0.2f}%\\\".format(\\n        sel_weighted, sel_weighted / tot_events_weighted * 100\\n    )\\n)\\nprint(\\\"selected per {:0.3g}: {:0.1f}\\\".format(tot_pot, sel_weighted / scale_pot))\";\n",
       "                var nbb_cells = Jupyter.notebook.get_cells();\n",
       "                for (var i = 0; i < nbb_cells.length; ++i) {\n",
       "                    if (nbb_cells[i].input_prompt_number == nbb_cell_id) {\n",
       "                        nbb_cells[i].set_text(nbb_formatted_code);\n",
       "                        break;\n",
       "                    }\n",
       "                }\n",
       "            }, 500);\n",
       "            "
      ],
      "text/plain": [
       "<IPython.core.display.Javascript object>"
      ]
     },
     "metadata": {},
     "output_type": "display_data"
    }
   ],
   "source": [
    "print(\"-- Delta NC radiative --\")\n",
    "file_name_dnc = \"./input/run1/nucc_ncdelta_overlay_run1_mcc9.root\"\n",
    "dnc_events = uproot.open(file_name_dnc)[main_tree_name][\"Event\"]\n",
    "dnc_subruns = uproot.open(file_name_dnc)[main_tree_name][\"subruns\"]\n",
    "\n",
    "dnc_pot = sum(dnc_subruns.array(\"pot\"))\n",
    "scale_pot = dnc_pot / tot_pot\n",
    "tot_events_weighted = sum(dnc_events.array(\"event_weight\"))\n",
    "sel_weighted = sum(\n",
    "    dnc_events.array(\"nu_mu_cc_selected\") * dnc_events.array(\"event_weight\")\n",
    ")\n",
    "\n",
    "print(\"events: {:0.0f}\".format(tot_events_weighted))\n",
    "print(\"pot: {:0.3g}\".format(dnc_pot))\n",
    "print(\n",
    "    \"selected: {:0.1f}, passing fraction: {:0.2f}%\".format(\n",
    "        sel_weighted, sel_weighted / tot_events_weighted * 100\n",
    "    )\n",
    ")\n",
    "print(\"selected per {:0.3g}: {:0.1f}\".format(tot_pot, sel_weighted / scale_pot))"
   ]
  },
  {
   "cell_type": "code",
   "execution_count": 8,
   "metadata": {},
   "outputs": [
    {
     "data": {
      "application/javascript": [
       "\n",
       "            setTimeout(function() {\n",
       "                var nbb_cell_id = 8;\n",
       "                var nbb_formatted_code = \"muon_candidate_selection = \\\"track_score>0.85 &\\\\\\n                            vtx_distance<4.0 &\\\\\\n                            track_chi2_proton>60.0 &\\\\\\n                            track_chi2_muon<30.0 &\\\\\\n                            (track_chi2_proton/track_chi2_muon)>7.0 &\\\\\\n                            generation==2 &\\\\\\n                            track_length>5\\\"\\n\\nevent_selection = \\\"nu_pdg==14 &\\\\\\n                   (nu_flash_chi2<10.0 | nu_score>0.25) &\\\\\\n                   daughters_start_contained &\\\\\\n                   nu_contained &\\\\\\n                   longest_muon_candidate_length==track_length &\\\\\\n                   nu_score>0.06 &\\\\\\n                   (nu_flash_chi2/obvious_cosmic_chi2)<5.0\\\"\";\n",
       "                var nbb_cells = Jupyter.notebook.get_cells();\n",
       "                for (var i = 0; i < nbb_cells.length; ++i) {\n",
       "                    if (nbb_cells[i].input_prompt_number == nbb_cell_id) {\n",
       "                        nbb_cells[i].set_text(nbb_formatted_code);\n",
       "                        break;\n",
       "                    }\n",
       "                }\n",
       "            }, 500);\n",
       "            "
      ],
      "text/plain": [
       "<IPython.core.display.Javascript object>"
      ]
     },
     "metadata": {},
     "output_type": "display_data"
    }
   ],
   "source": [
    "muon_candidate_selection = \"track_score>0.85 &\\\n",
    "                            vtx_distance<4.0 &\\\n",
    "                            track_chi2_proton>60.0 &\\\n",
    "                            track_chi2_muon<30.0 &\\\n",
    "                            (track_chi2_proton/track_chi2_muon)>7.0 &\\\n",
    "                            generation==2 &\\\n",
    "                            track_length>5\"\n",
    "\n",
    "event_selection = \"nu_pdg==14 &\\\n",
    "                   (nu_flash_chi2<10.0 | nu_score>0.25) &\\\n",
    "                   daughters_start_contained &\\\n",
    "                   nu_contained &\\\n",
    "                   longest_muon_candidate_length==track_length &\\\n",
    "                   nu_score>0.06 &\\\n",
    "                   (nu_flash_chi2/obvious_cosmic_chi2)<5.0\""
   ]
  },
  {
   "cell_type": "code",
   "execution_count": 9,
   "metadata": {},
   "outputs": [
    {
     "data": {
      "application/javascript": [
       "\n",
       "            setTimeout(function() {\n",
       "                var nbb_cell_id = 9;\n",
       "                var nbb_formatted_code = \"nue = {}\\nnue[\\\"subruns\\\"] = file[\\\"subruns\\\"]\\nnue[\\\"events\\\"] = file[\\\"Event\\\"]\\nnue[\\\"daughters\\\"] = file[\\\"Daughters\\\"]\";\n",
       "                var nbb_cells = Jupyter.notebook.get_cells();\n",
       "                for (var i = 0; i < nbb_cells.length; ++i) {\n",
       "                    if (nbb_cells[i].input_prompt_number == nbb_cell_id) {\n",
       "                        nbb_cells[i].set_text(nbb_formatted_code);\n",
       "                        break;\n",
       "                    }\n",
       "                }\n",
       "            }, 500);\n",
       "            "
      ],
      "text/plain": [
       "<IPython.core.display.Javascript object>"
      ]
     },
     "metadata": {},
     "output_type": "display_data"
    }
   ],
   "source": [
    "nue = {}\n",
    "nue[\"subruns\"] = file[\"subruns\"]\n",
    "nue[\"events\"] = file[\"Event\"]\n",
    "nue[\"daughters\"] = file[\"Daughters\"]"
   ]
  },
  {
   "cell_type": "code",
   "execution_count": 10,
   "metadata": {},
   "outputs": [
    {
     "name": "stdout",
     "output_type": "stream",
     "text": [
      "10109\n"
     ]
    },
    {
     "data": {
      "application/javascript": [
       "\n",
       "            setTimeout(function() {\n",
       "                var nbb_cell_id = 10;\n",
       "                var nbb_formatted_code = \"# check for duplicates\\nevent_hash = helper.eventHash(\\n    nue[\\\"events\\\"].pandas.df([\\\"evt_time_sec\\\", \\\"evt_time_nsec\\\"])\\n)\\nforbidden_hashes = event_hash[event_hash.duplicated()]\\nprint(len(forbidden_hashes))\";\n",
       "                var nbb_cells = Jupyter.notebook.get_cells();\n",
       "                for (var i = 0; i < nbb_cells.length; ++i) {\n",
       "                    if (nbb_cells[i].input_prompt_number == nbb_cell_id) {\n",
       "                        nbb_cells[i].set_text(nbb_formatted_code);\n",
       "                        break;\n",
       "                    }\n",
       "                }\n",
       "            }, 500);\n",
       "            "
      ],
      "text/plain": [
       "<IPython.core.display.Javascript object>"
      ]
     },
     "metadata": {},
     "output_type": "display_data"
    }
   ],
   "source": [
    "# check for duplicates\n",
    "event_hash = helper.eventHash(\n",
    "    nue[\"events\"].pandas.df([\"evt_time_sec\", \"evt_time_nsec\"])\n",
    ")\n",
    "forbidden_hashes = event_hash[event_hash.duplicated()]\n",
    "print(len(forbidden_hashes))"
   ]
  },
  {
   "cell_type": "code",
   "execution_count": 11,
   "metadata": {},
   "outputs": [
    {
     "name": "stdout",
     "output_type": "stream",
     "text": [
      "-- All Intrinsic Nues --\n",
      "events: 217923\n",
      "pot: 1.27e+23\n",
      "selected (SliceID): 173701.8, passing fraction: 79.71%\n",
      "selected (NuMuCC): 9241.6, passing fraction: 4.24%\n",
      "selected per 1.32e+21: 96.1\n"
     ]
    },
    {
     "data": {
      "application/javascript": [
       "\n",
       "            setTimeout(function() {\n",
       "                var nbb_cell_id = 11;\n",
       "                var nbb_formatted_code = \"# Passing fraction nue without requiring the energy cuts!\\nprint(\\\"-- All Intrinsic Nues --\\\")\\nnue_pot = sum(nue[\\\"subruns\\\"].array(\\\"pot\\\"))\\nnue_pot_corr = sum(nue[\\\"subruns\\\"].array(\\\"pot\\\")) * (\\n    1 - len(forbidden_hashes) * 2 / nue[\\\"events\\\"].numentries\\n)\\nscale_pot = nue_pot / tot_pot\\nscale_pot_corr = nue_pot_corr / tot_pot\\n\\ntot_events_weighted = sum(nue[\\\"events\\\"].array(\\\"event_weight\\\"))\\nsel_weighted = sum(\\n    nue[\\\"events\\\"].array(\\\"nu_mu_cc_selected\\\") * nue[\\\"events\\\"].array(\\\"event_weight\\\")\\n)\\nsid_weighted = sum(\\n    (nue[\\\"events\\\"].array(\\\"hitsSps\\\") > 0) * nue[\\\"events\\\"].array(\\\"event_weight\\\")\\n)\\n\\nprint(\\\"events: {:0.0f}\\\".format(tot_events_weighted))\\nprint(\\\"pot: {:0.3g}\\\".format(nue_pot))\\nprint(\\n    \\\"selected (SliceID): {:0.1f}, passing fraction: {:0.2f}%\\\".format(\\n        sid_weighted, sid_weighted / tot_events_weighted * 100\\n    )\\n)\\nprint(\\n    \\\"selected (NuMuCC): {:0.1f}, passing fraction: {:0.2f}%\\\".format(\\n        sel_weighted, sel_weighted / tot_events_weighted * 100\\n    )\\n)\\nprint(\\\"selected per {:0.3g}: {:0.1f}\\\".format(tot_pot, sel_weighted / scale_pot))\";\n",
       "                var nbb_cells = Jupyter.notebook.get_cells();\n",
       "                for (var i = 0; i < nbb_cells.length; ++i) {\n",
       "                    if (nbb_cells[i].input_prompt_number == nbb_cell_id) {\n",
       "                        nbb_cells[i].set_text(nbb_formatted_code);\n",
       "                        break;\n",
       "                    }\n",
       "                }\n",
       "            }, 500);\n",
       "            "
      ],
      "text/plain": [
       "<IPython.core.display.Javascript object>"
      ]
     },
     "metadata": {},
     "output_type": "display_data"
    }
   ],
   "source": [
    "# Passing fraction nue without requiring the energy cuts!\n",
    "print(\"-- All Intrinsic Nues --\")\n",
    "nue_pot = sum(nue[\"subruns\"].array(\"pot\"))\n",
    "nue_pot_corr = sum(nue[\"subruns\"].array(\"pot\")) * (\n",
    "    1 - len(forbidden_hashes) * 2 / nue[\"events\"].numentries\n",
    ")\n",
    "scale_pot = nue_pot / tot_pot\n",
    "scale_pot_corr = nue_pot_corr / tot_pot\n",
    "\n",
    "tot_events_weighted = sum(nue[\"events\"].array(\"event_weight\"))\n",
    "sel_weighted = sum(\n",
    "    nue[\"events\"].array(\"nu_mu_cc_selected\") * nue[\"events\"].array(\"event_weight\")\n",
    ")\n",
    "sid_weighted = sum(\n",
    "    (nue[\"events\"].array(\"hitsSps\") > 0) * nue[\"events\"].array(\"event_weight\")\n",
    ")\n",
    "\n",
    "print(\"events: {:0.0f}\".format(tot_events_weighted))\n",
    "print(\"pot: {:0.3g}\".format(nue_pot))\n",
    "print(\n",
    "    \"selected (SliceID): {:0.1f}, passing fraction: {:0.2f}%\".format(\n",
    "        sid_weighted, sid_weighted / tot_events_weighted * 100\n",
    "    )\n",
    ")\n",
    "print(\n",
    "    \"selected (NuMuCC): {:0.1f}, passing fraction: {:0.2f}%\".format(\n",
    "        sel_weighted, sel_weighted / tot_events_weighted * 100\n",
    "    )\n",
    ")\n",
    "print(\"selected per {:0.3g}: {:0.1f}\".format(tot_pot, sel_weighted / scale_pot))"
   ]
  },
  {
   "cell_type": "code",
   "execution_count": 12,
   "metadata": {},
   "outputs": [
    {
     "data": {
      "application/javascript": [
       "\n",
       "            setTimeout(function() {\n",
       "                var nbb_cell_id = 12;\n",
       "                var nbb_formatted_code = \"df_daughters = nue[\\\"daughters\\\"].pandas.df()\\ndf_daughters[\\\"hash\\\"] = helper.eventHash(df_daughters[[\\\"evt_time_sec\\\", \\\"evt_time_nsec\\\"]])\\ndf_daughters[\\\"duplicated\\\"] = df_daughters[\\\"hash\\\"].isin(forbidden_hashes)\\ndf_daughters = df_daughters.query(\\\"~duplicated\\\").copy()\";\n",
       "                var nbb_cells = Jupyter.notebook.get_cells();\n",
       "                for (var i = 0; i < nbb_cells.length; ++i) {\n",
       "                    if (nbb_cells[i].input_prompt_number == nbb_cell_id) {\n",
       "                        nbb_cells[i].set_text(nbb_formatted_code);\n",
       "                        break;\n",
       "                    }\n",
       "                }\n",
       "            }, 500);\n",
       "            "
      ],
      "text/plain": [
       "<IPython.core.display.Javascript object>"
      ]
     },
     "metadata": {},
     "output_type": "display_data"
    }
   ],
   "source": [
    "df_daughters = nue[\"daughters\"].pandas.df()\n",
    "df_daughters[\"hash\"] = helper.eventHash(df_daughters[[\"evt_time_sec\", \"evt_time_nsec\"]])\n",
    "df_daughters[\"duplicated\"] = df_daughters[\"hash\"].isin(forbidden_hashes)\n",
    "df_daughters = df_daughters.query(\"~duplicated\").copy()"
   ]
  },
  {
   "cell_type": "code",
   "execution_count": 13,
   "metadata": {},
   "outputs": [
    {
     "name": "stdout",
     "output_type": "stream",
     "text": [
      "['run', 'subRun', 'pot'] \n",
      "\n",
      "\n",
      "['event', 'run', 'subrun', 'event_weight', 'evt_time_sec', 'evt_time_nsec', 'numpfp', 'hitsU', 'hitsV', 'hitsY', 'total_hits', 'caloU', 'caloV', 'caloY', 'hitsSps', 'num_primary_daughters', 'num_daughters', 'num_showers', 'num_tracks', 'daughters_stored', 'nu_vx', 'nu_vy', 'nu_vz', 'nu_contained', 'daughters_start_contained', 'nu_pdg', 'nu_score', 'nu_flash_chi2', 'obvious_cosmic_chi2', 'nu_mu_cc_selected', 'num_neutrinos', 'mc_nu_vx', 'mc_nu_vy', 'mc_nu_vz', 'mc_nu_vx_sce', 'mc_nu_vy_sce', 'mc_nu_vz_sce', 'mc_nu_energy', 'mc_nu_px', 'mc_nu_py', 'mc_nu_pz', 'mc_nu_lepton_energy', 'mc_nu_lepton_px', 'mc_nu_lepton_py', 'mc_nu_lepton_pz', 'mc_nu_lepton_theta', 'mc_nu_time', 'mc_nu_pdg', 'mc_nu_interaction_type', 'mc_nu_target', 'mc_nu_hitnuc', 'mc_nu_hitquark', 'mc_nu_w', 'mc_nu_x', 'mc_nu_y', 'mc_nu_qsqr', 'mc_nu_ccnc', 'mc_nu_vtx_distance', 'num_matched_daughters', 'cosmic_matched', 'clustered_hit_completeness', 'matched_hit_fraction', 'mc_nu_daughter_matched', 'mc_nu_daughter_pdg', 'mc_nu_daughter_energy'] \n",
      "\n",
      "\n",
      "['event', 'run', 'subrun', 'evt_time_sec', 'evt_time_nsec', 'hitsU', 'hitsV', 'hitsY', 'caloU', 'caloV', 'caloY', 'hitsSps', 'generation', 'track_score', 'is_shower', 'is_track', 'has_shower_daughter', 'is_track_daughter', 'vx', 'vy', 'vz', 'start_contained', 'vtx_distance', 'track_length', 'track_endx', 'track_endy', 'track_endz', 'track_dirx', 'track_diry', 'track_dirz', 'track_is_muon_candidate', 'track_range_mom_p', 'track_range_mom_mu', 'track_mcs_mom', 'track_mcs_err', 'track_mcs_ll', 'track_chi2_proton', 'track_chi2_muon', 'shower_length', 'shower_openangle', 'shower_dirx', 'shower_diry', 'shower_dirz', 'start_dedxU', 'start_dedxV', 'start_dedxY', 'start_hitsU', 'start_hitsV', 'start_hitsY', 'start_pitchU', 'start_pitchV', 'start_pitchY', 'mc_neutrino', 'mc_pdg', 'mc_hit_fraction', 'mc_vx', 'mc_vy', 'mc_vz', 'mc_vx_sce', 'mc_vy_sce', 'mc_vz_sce', 'mc_length', 'mc_energy', 'mc_px', 'mc_py', 'mc_pz'] \n",
      "\n",
      "\n"
     ]
    },
    {
     "data": {
      "application/javascript": [
       "\n",
       "            setTimeout(function() {\n",
       "                var nbb_cell_id = 13;\n",
       "                var nbb_formatted_code = \"print([str(k.decode()) for k in nue[\\\"subruns\\\"].keys()], \\\"\\\\n\\\\n\\\")\\nprint([str(k.decode()) for k in nue[\\\"events\\\"].keys()], \\\"\\\\n\\\\n\\\")\\nprint([str(k.decode()) for k in nue[\\\"daughters\\\"].keys()], \\\"\\\\n\\\\n\\\")\";\n",
       "                var nbb_cells = Jupyter.notebook.get_cells();\n",
       "                for (var i = 0; i < nbb_cells.length; ++i) {\n",
       "                    if (nbb_cells[i].input_prompt_number == nbb_cell_id) {\n",
       "                        nbb_cells[i].set_text(nbb_formatted_code);\n",
       "                        break;\n",
       "                    }\n",
       "                }\n",
       "            }, 500);\n",
       "            "
      ],
      "text/plain": [
       "<IPython.core.display.Javascript object>"
      ]
     },
     "metadata": {},
     "output_type": "display_data"
    }
   ],
   "source": [
    "print([str(k.decode()) for k in nue[\"subruns\"].keys()], \"\\n\\n\")\n",
    "print([str(k.decode()) for k in nue[\"events\"].keys()], \"\\n\\n\")\n",
    "print([str(k.decode()) for k in nue[\"daughters\"].keys()], \"\\n\\n\")"
   ]
  },
  {
   "cell_type": "code",
   "execution_count": 14,
   "metadata": {},
   "outputs": [
    {
     "data": {
      "image/png": "[encoded data removed]",
      "text/plain": [
       "<Figure size 432x288 with 1 Axes>"
      ]
     },
     "metadata": {
      "needs_background": "light"
     },
     "output_type": "display_data"
    },
    {
     "data": {
      "application/javascript": [
       "\n",
       "            setTimeout(function() {\n",
       "                var nbb_cell_id = 14;\n",
       "                var nbb_formatted_code = \"dedx_mask = nue[\\\"daughters\\\"].array(\\\"start_hitsY\\\") > 3\\n_ = plt.hist(nue[\\\"daughters\\\"].array(\\\"start_dedxY\\\")[dedx_mask], range=(0, 10), bins=120)\";\n",
       "                var nbb_cells = Jupyter.notebook.get_cells();\n",
       "                for (var i = 0; i < nbb_cells.length; ++i) {\n",
       "                    if (nbb_cells[i].input_prompt_number == nbb_cell_id) {\n",
       "                        nbb_cells[i].set_text(nbb_formatted_code);\n",
       "                        break;\n",
       "                    }\n",
       "                }\n",
       "            }, 500);\n",
       "            "
      ],
      "text/plain": [
       "<IPython.core.display.Javascript object>"
      ]
     },
     "metadata": {},
     "output_type": "display_data"
    }
   ],
   "source": [
    "dedx_mask = nue[\"daughters\"].array(\"start_hitsY\") > 3\n",
    "_ = plt.hist(nue[\"daughters\"].array(\"start_dedxY\")[dedx_mask], range=(0, 10), bins=120)"
   ]
  },
  {
   "cell_type": "markdown",
   "metadata": {},
   "source": [
    "### Add fields to daughters frame"
   ]
  },
  {
   "cell_type": "code",
   "execution_count": 31,
   "metadata": {},
   "outputs": [
    {
     "data": {
      "application/javascript": [
       "\n",
       "            setTimeout(function() {\n",
       "                var nbb_cell_id = 31;\n",
       "                var nbb_formatted_code = \"cols = [\\n    \\\"evt_time_sec\\\",\\n    \\\"evt_time_nsec\\\",\\n    \\\"nu_mu_cc_selected\\\",\\n    \\\"mc_nu_interaction_type\\\",\\n    \\\"mc_nu_ccnc\\\",\\n    \\\"mc_nu_energy\\\",\\n    \\\"mc_nu_lepton_energy\\\",\\n    \\\"mc_nu_lepton_theta\\\",\\n    \\\"mc_nu_pdg\\\",\\n    \\\"mc_nu_vx\\\",\\n    \\\"mc_nu_vy\\\",\\n    \\\"mc_nu_vz\\\",\\n    \\\"event_weight\\\",\\n]\\n\\ndf_nu_event = nue[\\\"events\\\"].pandas.df(cols)\\n\\nnu_fid_vol_mask = helper.inTPC_mask(\\n    df_nu_event, \\\"mc_nu_vx\\\", \\\"mc_nu_vy\\\", \\\"mc_nu_vz\\\", fidvol=fidvol_vtx\\n)\\n\\nsignal_def_string = \\\"1.5>mc_nu_energy>0.05 & mc_nu_ccnc==0 & mc_nu_pdg==12\\\"\\nnu_sig_mask = df_nu_event.eval(signal_def_string)\\n\\n# Add MC info\\nmapper = dict(zip(event_hash, nu_sig_mask))\\ndf_daughters[\\\"mc_nu_cc_sig\\\"] = df_daughters[\\\"hash\\\"].map(mapper)\\nmapper = dict(zip(event_hash, nu_fid_vol_mask))\\ndf_daughters[\\\"mc_nu_fid_vol\\\"] = df_daughters[\\\"hash\\\"].map(mapper)\";\n",
       "                var nbb_cells = Jupyter.notebook.get_cells();\n",
       "                for (var i = 0; i < nbb_cells.length; ++i) {\n",
       "                    if (nbb_cells[i].input_prompt_number == nbb_cell_id) {\n",
       "                        nbb_cells[i].set_text(nbb_formatted_code);\n",
       "                        break;\n",
       "                    }\n",
       "                }\n",
       "            }, 500);\n",
       "            "
      ],
      "text/plain": [
       "<IPython.core.display.Javascript object>"
      ]
     },
     "metadata": {},
     "output_type": "display_data"
    }
   ],
   "source": [
    "cols = [\n",
    "    \"evt_time_sec\",\n",
    "    \"evt_time_nsec\",\n",
    "    \"nu_mu_cc_selected\",\n",
    "    \"mc_nu_interaction_type\",\n",
    "    \"mc_nu_ccnc\",\n",
    "    \"mc_nu_energy\",\n",
    "    \"mc_nu_lepton_energy\",\n",
    "    \"mc_nu_lepton_theta\",\n",
    "    \"mc_nu_pdg\",\n",
    "    \"mc_nu_vx\",\n",
    "    \"mc_nu_vy\",\n",
    "    \"mc_nu_vz\",\n",
    "    \"event_weight\",\n",
    "]\n",
    "\n",
    "df_nu_event = nue[\"events\"].pandas.df(cols)\n",
    "\n",
    "nu_fid_vol_mask = helper.inTPC_mask(\n",
    "    df_nu_event, \"mc_nu_vx\", \"mc_nu_vy\", \"mc_nu_vz\", fidvol=fidvol_vtx\n",
    ")\n",
    "\n",
    "signal_def_string = \"1.5>mc_nu_energy>0.05 & mc_nu_ccnc==0 & mc_nu_pdg==12\"\n",
    "nu_sig_mask = df_nu_event.eval(signal_def_string)\n",
    "\n",
    "# Add MC info\n",
    "mapper = dict(zip(event_hash, nu_sig_mask))\n",
    "df_daughters[\"mc_nu_cc_sig\"] = df_daughters[\"hash\"].map(mapper)\n",
    "mapper = dict(zip(event_hash, nu_fid_vol_mask))\n",
    "df_daughters[\"mc_nu_fid_vol\"] = df_daughters[\"hash\"].map(mapper)"
   ]
  },
  {
   "cell_type": "code",
   "execution_count": 16,
   "metadata": {},
   "outputs": [
    {
     "data": {
      "application/javascript": [
       "\n",
       "            setTimeout(function() {\n",
       "                var nbb_cell_id = 16;\n",
       "                var nbb_formatted_code = \"mapper_list = {\\n    \\\"nu_pdg\\\",\\n    \\\"num_tracks\\\",\\n    \\\"num_showers\\\",\\n    \\\"obvious_cosmic_chi2\\\",\\n    \\\"nu_flash_chi2\\\",\\n    \\\"nu_score\\\",\\n    \\\"nu_contained\\\",\\n    \\\"daughters_start_contained\\\",\\n    \\\"mc_nu_energy\\\",\\n    \\\"mc_nu_lepton_theta\\\",\\n    \\\"mc_nu_vtx_distance\\\",\\n    \\\"nu_mu_cc_selected\\\",\\n    \\\"event_weight\\\",\\n    \\\"clustered_hit_completeness\\\",\\n    \\\"matched_hit_fraction\\\",\\n}\\n\\nfor field in mapper_list:\\n    mapper = dict(zip(event_hash, nue[\\\"events\\\"].array(field)))\\n    df_daughters[field] = df_daughters[\\\"hash\\\"].map(mapper)\";\n",
       "                var nbb_cells = Jupyter.notebook.get_cells();\n",
       "                for (var i = 0; i < nbb_cells.length; ++i) {\n",
       "                    if (nbb_cells[i].input_prompt_number == nbb_cell_id) {\n",
       "                        nbb_cells[i].set_text(nbb_formatted_code);\n",
       "                        break;\n",
       "                    }\n",
       "                }\n",
       "            }, 500);\n",
       "            "
      ],
      "text/plain": [
       "<IPython.core.display.Javascript object>"
      ]
     },
     "metadata": {},
     "output_type": "display_data"
    }
   ],
   "source": [
    "mapper_list = {\n",
    "    \"nu_pdg\",\n",
    "    \"num_tracks\",\n",
    "    \"num_showers\",\n",
    "    \"obvious_cosmic_chi2\",\n",
    "    \"nu_flash_chi2\",\n",
    "    \"nu_score\",\n",
    "    \"nu_contained\",\n",
    "    \"daughters_start_contained\",\n",
    "    \"mc_nu_energy\",\n",
    "    \"mc_nu_lepton_theta\",\n",
    "    \"mc_nu_vtx_distance\",\n",
    "    \"nu_mu_cc_selected\",\n",
    "    \"event_weight\",\n",
    "    \"clustered_hit_completeness\",\n",
    "    \"matched_hit_fraction\",\n",
    "}\n",
    "\n",
    "for field in mapper_list:\n",
    "    mapper = dict(zip(event_hash, nue[\"events\"].array(field)))\n",
    "    df_daughters[field] = df_daughters[\"hash\"].map(mapper)"
   ]
  },
  {
   "cell_type": "markdown",
   "metadata": {},
   "source": [
    "### Selection"
   ]
  },
  {
   "cell_type": "code",
   "execution_count": 17,
   "metadata": {},
   "outputs": [
    {
     "data": {
      "application/javascript": [
       "\n",
       "            setTimeout(function() {\n",
       "                var nbb_cell_id = 17;\n",
       "                var nbb_formatted_code = \"# Select Muon Candidate\\ndf_daughters[\\\"muon_candidate\\\"] = df_daughters.eval(muon_candidate_selection)\\ndf_daughters.loc[df_daughters[\\\"muon_candidate\\\"], \\\"longest_muon_candidate_length\\\"] = (\\n    df_daughters.query(\\\"muon_candidate\\\")\\n    .groupby([\\\"hash\\\"])[\\\"track_length\\\"]\\n    .transform(max)\\n)\\ndf_daughters.loc[~df_daughters[\\\"muon_candidate\\\"], \\\"longest_muon_candidate_length\\\"] = -1\";\n",
       "                var nbb_cells = Jupyter.notebook.get_cells();\n",
       "                for (var i = 0; i < nbb_cells.length; ++i) {\n",
       "                    if (nbb_cells[i].input_prompt_number == nbb_cell_id) {\n",
       "                        nbb_cells[i].set_text(nbb_formatted_code);\n",
       "                        break;\n",
       "                    }\n",
       "                }\n",
       "            }, 500);\n",
       "            "
      ],
      "text/plain": [
       "<IPython.core.display.Javascript object>"
      ]
     },
     "metadata": {},
     "output_type": "display_data"
    }
   ],
   "source": [
    "# Select Muon Candidate\n",
    "df_daughters[\"muon_candidate\"] = df_daughters.eval(muon_candidate_selection)\n",
    "df_daughters.loc[df_daughters[\"muon_candidate\"], \"longest_muon_candidate_length\"] = (\n",
    "    df_daughters.query(\"muon_candidate\")\n",
    "    .groupby([\"hash\"])[\"track_length\"]\n",
    "    .transform(max)\n",
    ")\n",
    "df_daughters.loc[~df_daughters[\"muon_candidate\"], \"longest_muon_candidate_length\"] = -1"
   ]
  },
  {
   "cell_type": "code",
   "execution_count": 18,
   "metadata": {},
   "outputs": [
    {
     "data": {
      "application/javascript": [
       "\n",
       "            setTimeout(function() {\n",
       "                var nbb_cell_id = 18;\n",
       "                var nbb_formatted_code = \"# Select Muon Candidate alternative\\ndf_daughters[\\\"chi2_ratio\\\"] = df_daughters.eval(\\\"track_chi2_proton/track_chi2_muon\\\")\\ndf_daughters.loc[df_daughters[\\\"muon_candidate\\\"], \\\"highest_chi2_ratio\\\"] = (\\n    df_daughters.query(\\\"muon_candidate\\\").groupby([\\\"hash\\\"])[\\\"chi2_ratio\\\"].transform(max)\\n)\\ndf_daughters.loc[~df_daughters[\\\"muon_candidate\\\"], \\\"highest_chi2_ratio\\\"] = -1\";\n",
       "                var nbb_cells = Jupyter.notebook.get_cells();\n",
       "                for (var i = 0; i < nbb_cells.length; ++i) {\n",
       "                    if (nbb_cells[i].input_prompt_number == nbb_cell_id) {\n",
       "                        nbb_cells[i].set_text(nbb_formatted_code);\n",
       "                        break;\n",
       "                    }\n",
       "                }\n",
       "            }, 500);\n",
       "            "
      ],
      "text/plain": [
       "<IPython.core.display.Javascript object>"
      ]
     },
     "metadata": {},
     "output_type": "display_data"
    }
   ],
   "source": [
    "# Select Muon Candidate alternative\n",
    "df_daughters[\"chi2_ratio\"] = df_daughters.eval(\"track_chi2_proton/track_chi2_muon\")\n",
    "df_daughters.loc[df_daughters[\"muon_candidate\"], \"highest_chi2_ratio\"] = (\n",
    "    df_daughters.query(\"muon_candidate\").groupby([\"hash\"])[\"chi2_ratio\"].transform(max)\n",
    ")\n",
    "df_daughters.loc[~df_daughters[\"muon_candidate\"], \"highest_chi2_ratio\"] = -1"
   ]
  },
  {
   "cell_type": "code",
   "execution_count": 19,
   "metadata": {},
   "outputs": [
    {
     "data": {
      "application/javascript": [
       "\n",
       "            setTimeout(function() {\n",
       "                var nbb_cell_id = 19;\n",
       "                var nbb_formatted_code = \"#### Selection queries\\nquery_select_wo_trackcut = event_selection\\nquery_select = query_select_wo_trackcut + \\\" & track_length>20.0\\\"\\nquery_pure = \\\"mc_nu_vtx_distance<5.0 & abs(mc_pdg)==13\\\"\\nquery_event = query_select + \\\" & \\\" + query_pure\";\n",
       "                var nbb_cells = Jupyter.notebook.get_cells();\n",
       "                for (var i = 0; i < nbb_cells.length; ++i) {\n",
       "                    if (nbb_cells[i].input_prompt_number == nbb_cell_id) {\n",
       "                        nbb_cells[i].set_text(nbb_formatted_code);\n",
       "                        break;\n",
       "                    }\n",
       "                }\n",
       "            }, 500);\n",
       "            "
      ],
      "text/plain": [
       "<IPython.core.display.Javascript object>"
      ]
     },
     "metadata": {},
     "output_type": "display_data"
    }
   ],
   "source": [
    "#### Selection queries\n",
    "query_select_wo_trackcut = event_selection\n",
    "query_select = query_select_wo_trackcut + \" & track_length>20.0\"\n",
    "query_pure = \"mc_nu_vtx_distance<5.0 & abs(mc_pdg)==13\"\n",
    "query_event = query_select + \" & \" + query_pure"
   ]
  },
  {
   "cell_type": "code",
   "execution_count": 20,
   "metadata": {
    "scrolled": false
   },
   "outputs": [
    {
     "data": {
      "application/javascript": [
       "\n",
       "            setTimeout(function() {\n",
       "                var nbb_cell_id = 20;\n",
       "                var nbb_formatted_code = \"df_daughters[\\\"python_select\\\"] = df_daughters.eval(query_select)\";\n",
       "                var nbb_cells = Jupyter.notebook.get_cells();\n",
       "                for (var i = 0; i < nbb_cells.length; ++i) {\n",
       "                    if (nbb_cells[i].input_prompt_number == nbb_cell_id) {\n",
       "                        nbb_cells[i].set_text(nbb_formatted_code);\n",
       "                        break;\n",
       "                    }\n",
       "                }\n",
       "            }, 500);\n",
       "            "
      ],
      "text/plain": [
       "<IPython.core.display.Javascript object>"
      ]
     },
     "metadata": {},
     "output_type": "display_data"
    }
   ],
   "source": [
    "df_daughters[\"python_select\"] = df_daughters.eval(query_select)"
   ]
  },
  {
   "cell_type": "code",
   "execution_count": 21,
   "metadata": {},
   "outputs": [
    {
     "name": "stdout",
     "output_type": "stream",
     "text": [
      "19733\n",
      "19733\n",
      "19733\n",
      "3819\n",
      "3819\n"
     ]
    },
    {
     "data": {
      "application/javascript": [
       "\n",
       "            setTimeout(function() {\n",
       "                var nbb_cell_id = 21;\n",
       "                var nbb_formatted_code = \"# Check if python and C++ agree\\n\\nprint(sum(df_daughters.query(\\\"mc_nu_cc_sig\\\")[\\\"muon_candidate\\\"]))\\nprint(sum(df_daughters.query(\\\"mc_nu_cc_sig\\\")[\\\"track_is_muon_candidate\\\"]))\\nprint(\\n    len(\\n        df_daughters.query(\\\"mc_nu_cc_sig\\\").query(\\n            \\\"muon_candidate | track_is_muon_candidate\\\"\\n        )\\n    )\\n)\\n\\nprint(sum(df_daughters.query(\\\"mc_nu_cc_sig\\\")[\\\"python_select\\\"]))\\nprint(\\n    len(df_daughters.query(\\\"mc_nu_cc_sig\\\").query(\\\"nu_mu_cc_selected\\\").groupby(\\\"hash\\\"))\\n)\";\n",
       "                var nbb_cells = Jupyter.notebook.get_cells();\n",
       "                for (var i = 0; i < nbb_cells.length; ++i) {\n",
       "                    if (nbb_cells[i].input_prompt_number == nbb_cell_id) {\n",
       "                        nbb_cells[i].set_text(nbb_formatted_code);\n",
       "                        break;\n",
       "                    }\n",
       "                }\n",
       "            }, 500);\n",
       "            "
      ],
      "text/plain": [
       "<IPython.core.display.Javascript object>"
      ]
     },
     "metadata": {},
     "output_type": "display_data"
    }
   ],
   "source": [
    "# Check if python and C++ agree\n",
    "\n",
    "print(sum(df_daughters.query(\"mc_nu_cc_sig\")[\"muon_candidate\"]))\n",
    "print(sum(df_daughters.query(\"mc_nu_cc_sig\")[\"track_is_muon_candidate\"]))\n",
    "print(\n",
    "    len(\n",
    "        df_daughters.query(\"mc_nu_cc_sig\").query(\n",
    "            \"muon_candidate | track_is_muon_candidate\"\n",
    "        )\n",
    "    )\n",
    ")\n",
    "\n",
    "print(sum(df_daughters.query(\"mc_nu_cc_sig\")[\"python_select\"]))\n",
    "print(\n",
    "    len(df_daughters.query(\"mc_nu_cc_sig\").query(\"nu_mu_cc_selected\").groupby(\"hash\"))\n",
    ")"
   ]
  },
  {
   "cell_type": "code",
   "execution_count": 22,
   "metadata": {},
   "outputs": [
    {
     "name": "stdout",
     "output_type": "stream",
     "text": [
      "Number of electron neutrinos [50MeV-1.5GeV] passing CC inclusive filter: 44.68+/-0.72 per 1.32e+21POT.\n"
     ]
    },
    {
     "data": {
      "application/javascript": [
       "\n",
       "            setTimeout(function() {\n",
       "                var nbb_cell_id = 22;\n",
       "                var nbb_formatted_code = \"# how much nue events pass\\nnum_nue_pass = sum(\\n    df_daughters.query(\\\"mc_nu_cc_sig\\\").query(\\\"python_select\\\")[\\\"event_weight\\\"]\\n)\\nnum_nue_pass_err = np.sqrt(num_nue_pass)\\nprint(\\n    \\\"Number of electron neutrinos [50MeV-1.5GeV] passing CC inclusive filter: {0:.2f}+/-{1:.2f} per {2:.3g}POT.\\\".format(\\n        num_nue_pass / scale_pot_corr, num_nue_pass_err / scale_pot_corr, tot_pot\\n    )\\n)\";\n",
       "                var nbb_cells = Jupyter.notebook.get_cells();\n",
       "                for (var i = 0; i < nbb_cells.length; ++i) {\n",
       "                    if (nbb_cells[i].input_prompt_number == nbb_cell_id) {\n",
       "                        nbb_cells[i].set_text(nbb_formatted_code);\n",
       "                        break;\n",
       "                    }\n",
       "                }\n",
       "            }, 500);\n",
       "            "
      ],
      "text/plain": [
       "<IPython.core.display.Javascript object>"
      ]
     },
     "metadata": {},
     "output_type": "display_data"
    }
   ],
   "source": [
    "# how much nue events pass\n",
    "num_nue_pass = sum(\n",
    "    df_daughters.query(\"mc_nu_cc_sig\").query(\"python_select\")[\"event_weight\"]\n",
    ")\n",
    "num_nue_pass_err = np.sqrt(num_nue_pass)\n",
    "print(\n",
    "    \"Number of electron neutrinos [50MeV-1.5GeV] passing CC inclusive filter: {0:.2f}+/-{1:.2f} per {2:.3g}POT.\".format(\n",
    "        num_nue_pass / scale_pot_corr, num_nue_pass_err / scale_pot_corr, tot_pot\n",
    "    )\n",
    ")"
   ]
  },
  {
   "cell_type": "code",
   "execution_count": 23,
   "metadata": {},
   "outputs": [
    {
     "name": "stdout",
     "output_type": "stream",
     "text": [
      "Number of electron neutrinos [50MeV-1.5GeV] passing CC inclusive filter: 44.68+/-0.72 per 1.32e+21POT.\n"
     ]
    },
    {
     "data": {
      "application/javascript": [
       "\n",
       "            setTimeout(function() {\n",
       "                var nbb_cell_id = 23;\n",
       "                var nbb_formatted_code = \"# how much nue events pass (C++)\\nnum_nue_pass = sum(\\n    df_daughters.query(\\\"mc_nu_cc_sig\\\")\\n    .query(\\\"nu_mu_cc_selected\\\")[[\\\"hash\\\", \\\"event_weight\\\"]]\\n    .groupby(\\\"hash\\\")\\n    .first()\\n    .values\\n)[0]\\n\\nnum_nue_pass_err = np.sqrt(num_nue_pass)\\nprint(\\n    \\\"Number of electron neutrinos [50MeV-1.5GeV] passing CC inclusive filter: {0:.2f}+/-{1:.2f} per {2:.3g}POT.\\\".format(\\n        num_nue_pass / scale_pot_corr, num_nue_pass_err / scale_pot_corr, tot_pot\\n    )\\n)\";\n",
       "                var nbb_cells = Jupyter.notebook.get_cells();\n",
       "                for (var i = 0; i < nbb_cells.length; ++i) {\n",
       "                    if (nbb_cells[i].input_prompt_number == nbb_cell_id) {\n",
       "                        nbb_cells[i].set_text(nbb_formatted_code);\n",
       "                        break;\n",
       "                    }\n",
       "                }\n",
       "            }, 500);\n",
       "            "
      ],
      "text/plain": [
       "<IPython.core.display.Javascript object>"
      ]
     },
     "metadata": {},
     "output_type": "display_data"
    }
   ],
   "source": [
    "# how much nue events pass (C++)\n",
    "num_nue_pass = sum(\n",
    "    df_daughters.query(\"mc_nu_cc_sig\")\n",
    "    .query(\"nu_mu_cc_selected\")[[\"hash\", \"event_weight\"]]\n",
    "    .groupby(\"hash\")\n",
    "    .first()\n",
    "    .values\n",
    ")[0]\n",
    "\n",
    "num_nue_pass_err = np.sqrt(num_nue_pass)\n",
    "print(\n",
    "    \"Number of electron neutrinos [50MeV-1.5GeV] passing CC inclusive filter: {0:.2f}+/-{1:.2f} per {2:.3g}POT.\".format(\n",
    "        num_nue_pass / scale_pot_corr, num_nue_pass_err / scale_pot_corr, tot_pot\n",
    "    )\n",
    ")"
   ]
  },
  {
   "cell_type": "markdown",
   "metadata": {},
   "source": [
    "Take the selection as doen in the producer module!"
   ]
  },
  {
   "cell_type": "code",
   "execution_count": 24,
   "metadata": {},
   "outputs": [
    {
     "data": {
      "image/png": "[encoded data removed]",
      "text/plain": [
       "<Figure size 612x288 with 2 Axes>"
      ]
     },
     "metadata": {
      "needs_background": "light"
     },
     "output_type": "display_data"
    },
    {
     "data": {
      "application/javascript": [
       "\n",
       "            setTimeout(function() {\n",
       "                var nbb_cell_id = 24;\n",
       "                var nbb_formatted_code = \"# is the muon candidate always matched?\\n# what is the purity completeness of the event\\nfig, ax = plt.subplots(ncols=2, nrows=1, figsize=(8.5, 4), sharex=True)\\n\\nsel_comp = df_daughters.query(\\\"mc_nu_cc_sig & python_select\\\")[\\n    \\\"clustered_hit_completeness\\\"\\n]\\nsel_purity = df_daughters.query(\\\"mc_nu_cc_sig & python_select\\\")[\\\"matched_hit_fraction\\\"]\\n\\nlabel = \\\"Completeness < 0.5: {:0.1f}%\\\".format(sum(sel_comp < 0.5) / len(sel_comp) * 100)\\nax[0].hist(sel_comp, bins=20, label=label)\\nax[0].set_xlabel(\\\"Hit completeness fraction\\\")\\nax[0].set_ylabel(\\\"Events per bin\\\")\\nax[0].legend()\\nax[0].set_title(title_mc_str, loc=\\\"right\\\")\\n\\nlabel = \\\"Purity < 0.5: {:0.1f}%\\\".format(sum(sel_purity < 0.5) / len(sel_purity) * 100)\\nax[1].hist(sel_purity, bins=20, label=label)\\nax[1].set_xlabel(\\\"Hit purity fraction\\\")\\nax[1].set_ylabel(\\\"Events per bin\\\")\\nax[1].legend()\\nax[1].set_title(title_mc_str, loc=\\\"right\\\")\\n\\nfig.tight_layout()\\nfig.savefig(outdir + \\\"pur_comp_nue_passing.pdf\\\")\";\n",
       "                var nbb_cells = Jupyter.notebook.get_cells();\n",
       "                for (var i = 0; i < nbb_cells.length; ++i) {\n",
       "                    if (nbb_cells[i].input_prompt_number == nbb_cell_id) {\n",
       "                        nbb_cells[i].set_text(nbb_formatted_code);\n",
       "                        break;\n",
       "                    }\n",
       "                }\n",
       "            }, 500);\n",
       "            "
      ],
      "text/plain": [
       "<IPython.core.display.Javascript object>"
      ]
     },
     "metadata": {},
     "output_type": "display_data"
    }
   ],
   "source": [
    "# is the muon candidate always matched?\n",
    "# what is the purity completeness of the event\n",
    "fig, ax = plt.subplots(ncols=2, nrows=1, figsize=(8.5, 4), sharex=True)\n",
    "\n",
    "sel_comp = df_daughters.query(\"mc_nu_cc_sig & python_select\")[\n",
    "    \"clustered_hit_completeness\"\n",
    "]\n",
    "sel_purity = df_daughters.query(\"mc_nu_cc_sig & python_select\")[\"matched_hit_fraction\"]\n",
    "\n",
    "label = \"Completeness < 0.5: {:0.1f}%\".format(sum(sel_comp < 0.5) / len(sel_comp) * 100)\n",
    "ax[0].hist(sel_comp, bins=20, label=label)\n",
    "ax[0].set_xlabel(\"Hit completeness fraction\")\n",
    "ax[0].set_ylabel(\"Events per bin\")\n",
    "ax[0].legend()\n",
    "ax[0].set_title(title_mc_str, loc=\"right\")\n",
    "\n",
    "label = \"Purity < 0.5: {:0.1f}%\".format(sum(sel_purity < 0.5) / len(sel_purity) * 100)\n",
    "ax[1].hist(sel_purity, bins=20, label=label)\n",
    "ax[1].set_xlabel(\"Hit purity fraction\")\n",
    "ax[1].set_ylabel(\"Events per bin\")\n",
    "ax[1].legend()\n",
    "ax[1].set_title(title_mc_str, loc=\"right\")\n",
    "\n",
    "fig.tight_layout()\n",
    "fig.savefig(outdir + \"pur_comp_nue_passing.pdf\")"
   ]
  },
  {
   "cell_type": "code",
   "execution_count": 25,
   "metadata": {},
   "outputs": [
    {
     "data": {
      "application/javascript": [
       "\n",
       "            setTimeout(function() {\n",
       "                var nbb_cell_id = 25;\n",
       "                var nbb_formatted_code = \"reco_quality_str = \\\"(clustered_hit_completeness< 0.5 | matched_hit_fraction<0.5)\\\"\\nsig_sel_str = \\\"mc_nu_cc_sig & python_select\\\"\\n\\n# Denominator\\nnum_all_sum = sum(df_daughters.query(sig_sel_str)[\\\"event_weight\\\"])\\nnum_all_E = df_daughters.query(sig_sel_str)[\\\"mc_nu_energy\\\"]\\n\\n# Bad reconstructed\\nnum_bad_reco_sum = sum(\\n    df_daughters.query(reco_quality_str).query(sig_sel_str)[\\\"event_weight\\\"]\\n)\\n\\n\\nnum_bad_reco_E = df_daughters.query(reco_quality_str).query(sig_sel_str)[\\\"mc_nu_energy\\\"]\\n# Matched wrong pdg\\nnum_pdg_sum = []\\nnum_pdg_E = []\\nfor pdg in [11, 211, 2212]:\\n    temp = (\\n        df_daughters.query(\\\"~\\\" + reco_quality_str)\\n        .query(\\\"abs(mc_pdg)==@pdg\\\")\\n        .query(sig_sel_str)[\\\"event_weight\\\"]\\n        .sum()\\n    )\\n    num_pdg_sum.append(temp)\\n    temp = (\\n        df_daughters.query(\\\"~\\\" + reco_quality_str)\\n        .query(\\\"abs(mc_pdg)==@pdg\\\")\\n        .query(sig_sel_str)[\\\"mc_nu_energy\\\"]\\n    )\\n    num_pdg_E.append(temp)\";\n",
       "                var nbb_cells = Jupyter.notebook.get_cells();\n",
       "                for (var i = 0; i < nbb_cells.length; ++i) {\n",
       "                    if (nbb_cells[i].input_prompt_number == nbb_cell_id) {\n",
       "                        nbb_cells[i].set_text(nbb_formatted_code);\n",
       "                        break;\n",
       "                    }\n",
       "                }\n",
       "            }, 500);\n",
       "            "
      ],
      "text/plain": [
       "<IPython.core.display.Javascript object>"
      ]
     },
     "metadata": {},
     "output_type": "display_data"
    }
   ],
   "source": [
    "reco_quality_str = \"(clustered_hit_completeness< 0.5 | matched_hit_fraction<0.5)\"\n",
    "sig_sel_str = \"mc_nu_cc_sig & python_select\"\n",
    "\n",
    "# Denominator\n",
    "num_all_sum = sum(df_daughters.query(sig_sel_str)[\"event_weight\"])\n",
    "num_all_E = df_daughters.query(sig_sel_str)[\"mc_nu_energy\"]\n",
    "\n",
    "# Bad reconstructed\n",
    "num_bad_reco_sum = sum(\n",
    "    df_daughters.query(reco_quality_str).query(sig_sel_str)[\"event_weight\"]\n",
    ")\n",
    "\n",
    "\n",
    "num_bad_reco_E = df_daughters.query(reco_quality_str).query(sig_sel_str)[\"mc_nu_energy\"]\n",
    "# Matched wrong pdg\n",
    "num_pdg_sum = []\n",
    "num_pdg_E = []\n",
    "for pdg in [11, 211, 2212]:\n",
    "    temp = (\n",
    "        df_daughters.query(\"~\" + reco_quality_str)\n",
    "        .query(\"abs(mc_pdg)==@pdg\")\n",
    "        .query(sig_sel_str)[\"event_weight\"]\n",
    "        .sum()\n",
    "    )\n",
    "    num_pdg_sum.append(temp)\n",
    "    temp = (\n",
    "        df_daughters.query(\"~\" + reco_quality_str)\n",
    "        .query(\"abs(mc_pdg)==@pdg\")\n",
    "        .query(sig_sel_str)[\"mc_nu_energy\"]\n",
    "    )\n",
    "    num_pdg_E.append(temp)"
   ]
  },
  {
   "cell_type": "code",
   "execution_count": 26,
   "metadata": {},
   "outputs": [
    {
     "data": {
      "image/png": "[encoded data removed]",
      "text/plain": [
       "<Figure size 648x288 with 2 Axes>"
      ]
     },
     "metadata": {
      "needs_background": "light"
     },
     "output_type": "display_data"
    },
    {
     "data": {
      "application/javascript": [
       "\n",
       "            setTimeout(function() {\n",
       "                var nbb_cell_id = 26;\n",
       "                var nbb_formatted_code = \"fig, ax = plt.subplots(ncols=2, nrows=1, figsize=(9, 4), sharex=True)\\n\\nN = 10\\nx_min = 0.05\\nx_max = 1.5\\n\\ndata_sum = [*num_pdg_sum, num_bad_reco_sum, num_all_sum]\\ndata = [*num_pdg_E, num_bad_reco_E, num_all_E]\\n\\nedges, edges_mid, bins, err, max_val = helper.histHelper(\\n    N, x_min, x_max, data, weights=[1 / scale_pot_corr] * 5\\n)\\n\\nwidths = edges[1:] - edges[:-1]\\n\\nlabels = [\\n    \\\"Electron as muon candidate\\\",\\n    \\\"Charged pion as muon candidate\\\",\\n    \\\"Proton as muon candidate\\\",\\n    \\\"Bad reconstructed / cosmic\\\",\\n]\\n\\nlower = np.zeros(N)\\nfor i in range(4):\\n    ax[0].bar(\\n        edges_mid,\\n        bins[i],\\n        lw=2,\\n        width=widths,\\n        label=labels[i] + r\\\" {:.1f} $\\\\nu_e$\\\".format(data_sum[i] / scale_pot_corr),\\n        bottom=lower,\\n    )\\n    lower += bins[i]\\n\\nfor m, v, e, w in zip(edges_mid, bins[-1], err[-1], widths):\\n    ax[0].add_patch(\\n        patches.Rectangle(\\n            (m - w / 2, v - e),\\n            w,\\n            2 * e,\\n            hatch=\\\"\\\\\\\\\\\\\\\\\\\\\\\\\\\\\\\\\\\\\\\\\\\",\\n            Fill=False,\\n            linewidth=0,\\n            alpha=0.4,\\n        )\\n    )\\nax[0].set_xlabel(r\\\"$\\\\nu_e$ True Energy [GeV]\\\")\\nax[0].set_ylabel(r\\\"Events / 145MeV\\\")\\nax[0].set_ylim(0, 14)\\nax[0].legend(loc=\\\"upper center\\\")\\nax[0].set_title(\\\"Run1 Overlay, MCC9.1\\\")\\n\\n\\n_, _, bins, _, _ = helper.histHelper(N, x_min, x_max, data)\\nfor i in range(4):\\n    fraq = bins[i] / bins[-1]\\n    ratio = data_sum[i] / data_sum[-1]\\n    err = np.sqrt(fraq * (1 - fraq) / bins[-1])\\n    fraq = np.append(fraq, fraq[-1])\\n    err = np.append(err, err[-1])\\n\\n    ax[1].step(\\n        edges,\\n        fraq,\\n        color=\\\"C\\\" + str(i),\\n        where=\\\"post\\\",\\n        label=labels[i] + r\\\" {:.1f}%\\\".format(ratio * 100),\\n    )\\n    ax[1].fill_between(\\n        edges, fraq - err, fraq + err, alpha=0.3, step=\\\"post\\\", color=\\\"C\\\" + str(i)\\n    )\\n\\nax[1].set_xlim(x_min, x_max)\\nax[1].set_ylabel(r\\\"Fraction of selected $\\\\nu_e$\\\")\\nax[1].set_xlabel(r\\\"$\\\\nu_e$ True Energy [GeV]\\\")\\nax[1].set_ylim(0, 1)\\nax[1].set_title(\\\"MicroBooNE INTERNAL\\\")\\nax[1].legend(loc=\\\"upper center\\\")\\n\\nfig.tight_layout()\\nfig.savefig(outdir + \\\"unblinding_nue_reasons.pdf\\\")\";\n",
       "                var nbb_cells = Jupyter.notebook.get_cells();\n",
       "                for (var i = 0; i < nbb_cells.length; ++i) {\n",
       "                    if (nbb_cells[i].input_prompt_number == nbb_cell_id) {\n",
       "                        nbb_cells[i].set_text(nbb_formatted_code);\n",
       "                        break;\n",
       "                    }\n",
       "                }\n",
       "            }, 500);\n",
       "            "
      ],
      "text/plain": [
       "<IPython.core.display.Javascript object>"
      ]
     },
     "metadata": {},
     "output_type": "display_data"
    }
   ],
   "source": [
    "fig, ax = plt.subplots(ncols=2, nrows=1, figsize=(9, 4), sharex=True)\n",
    "\n",
    "N = 10\n",
    "x_min = 0.05\n",
    "x_max = 1.5\n",
    "\n",
    "data_sum = [*num_pdg_sum, num_bad_reco_sum, num_all_sum]\n",
    "data = [*num_pdg_E, num_bad_reco_E, num_all_E]\n",
    "\n",
    "edges, edges_mid, bins, err, max_val = helper.histHelper(\n",
    "    N, x_min, x_max, data, weights=[1 / scale_pot_corr] * 5\n",
    ")\n",
    "\n",
    "widths = edges[1:] - edges[:-1]\n",
    "\n",
    "labels = [\n",
    "    \"Electron as muon candidate\",\n",
    "    \"Charged pion as muon candidate\",\n",
    "    \"Proton as muon candidate\",\n",
    "    \"Bad reconstructed / cosmic\",\n",
    "]\n",
    "\n",
    "lower = np.zeros(N)\n",
    "for i in range(4):\n",
    "    ax[0].bar(\n",
    "        edges_mid,\n",
    "        bins[i],\n",
    "        lw=2,\n",
    "        width=widths,\n",
    "        label=labels[i] + r\" {:.1f} $\\nu_e$\".format(data_sum[i] / scale_pot_corr),\n",
    "        bottom=lower,\n",
    "    )\n",
    "    lower += bins[i]\n",
    "\n",
    "for m, v, e, w in zip(edges_mid, bins[-1], err[-1], widths):\n",
    "    ax[0].add_patch(\n",
    "        patches.Rectangle(\n",
    "            (m - w / 2, v - e),\n",
    "            w,\n",
    "            2 * e,\n",
    "            hatch=\"\\\\\\\\\\\\\\\\\\\\\",\n",
    "            Fill=False,\n",
    "            linewidth=0,\n",
    "            alpha=0.4,\n",
    "        )\n",
    "    )\n",
    "ax[0].set_xlabel(r\"$\\nu_e$ True Energy [GeV]\")\n",
    "ax[0].set_ylabel(r\"Events / 145MeV\")\n",
    "ax[0].set_ylim(0, 14)\n",
    "ax[0].legend(loc=\"upper center\")\n",
    "ax[0].set_title(\"Run1 Overlay, MCC9.1\")\n",
    "\n",
    "\n",
    "_, _, bins, _, _ = helper.histHelper(N, x_min, x_max, data)\n",
    "for i in range(4):\n",
    "    fraq = bins[i] / bins[-1]\n",
    "    ratio = data_sum[i] / data_sum[-1]\n",
    "    err = np.sqrt(fraq * (1 - fraq) / bins[-1])\n",
    "    fraq = np.append(fraq, fraq[-1])\n",
    "    err = np.append(err, err[-1])\n",
    "\n",
    "    ax[1].step(\n",
    "        edges,\n",
    "        fraq,\n",
    "        color=\"C\" + str(i),\n",
    "        where=\"post\",\n",
    "        label=labels[i] + r\" {:.1f}%\".format(ratio * 100),\n",
    "    )\n",
    "    ax[1].fill_between(\n",
    "        edges, fraq - err, fraq + err, alpha=0.3, step=\"post\", color=\"C\" + str(i)\n",
    "    )\n",
    "\n",
    "ax[1].set_xlim(x_min, x_max)\n",
    "ax[1].set_ylabel(r\"Fraction of selected $\\nu_e$\")\n",
    "ax[1].set_xlabel(r\"$\\nu_e$ True Energy [GeV]\")\n",
    "ax[1].set_ylim(0, 1)\n",
    "ax[1].set_title(\"MicroBooNE INTERNAL\")\n",
    "ax[1].legend(loc=\"upper center\")\n",
    "\n",
    "fig.tight_layout()\n",
    "fig.savefig(outdir + \"unblinding_nue_reasons.pdf\")"
   ]
  },
  {
   "cell_type": "code",
   "execution_count": 27,
   "metadata": {
    "scrolled": false
   },
   "outputs": [
    {
     "data": {
      "text/plain": [
       "11      34.485467\n",
       "211     34.433098\n",
       "2212    26.237235\n",
       "2112     3.901545\n",
       "22       0.864101\n",
       "321      0.078555\n",
       "Name: mc_pdg, dtype: float64"
      ]
     },
     "execution_count": 27,
     "metadata": {},
     "output_type": "execute_result"
    },
    {
     "data": {
      "application/javascript": [
       "\n",
       "            setTimeout(function() {\n",
       "                var nbb_cell_id = 27;\n",
       "                var nbb_formatted_code = \"abs(\\n    df_daughters.query(\\\"mc_nu_cc_sig\\\").query(query_select)[\\\"mc_pdg\\\"]\\n).value_counts() / len(df_daughters.query(\\\"mc_nu_cc_sig\\\").query(query_select)) * 100\";\n",
       "                var nbb_cells = Jupyter.notebook.get_cells();\n",
       "                for (var i = 0; i < nbb_cells.length; ++i) {\n",
       "                    if (nbb_cells[i].input_prompt_number == nbb_cell_id) {\n",
       "                        nbb_cells[i].set_text(nbb_formatted_code);\n",
       "                        break;\n",
       "                    }\n",
       "                }\n",
       "            }, 500);\n",
       "            "
      ],
      "text/plain": [
       "<IPython.core.display.Javascript object>"
      ]
     },
     "metadata": {},
     "output_type": "display_data"
    }
   ],
   "source": [
    "abs(\n",
    "    df_daughters.query(\"mc_nu_cc_sig\").query(query_select)[\"mc_pdg\"]\n",
    ").value_counts() / len(df_daughters.query(\"mc_nu_cc_sig\").query(query_select)) * 100"
   ]
  },
  {
   "cell_type": "code",
   "execution_count": 28,
   "metadata": {},
   "outputs": [
    {
     "data": {
      "text/plain": [
       "True     91.594658\n",
       "False     8.405342\n",
       "Name: mc_nu_fid_vol, dtype: float64"
      ]
     },
     "execution_count": 28,
     "metadata": {},
     "output_type": "execute_result"
    },
    {
     "data": {
      "application/javascript": [
       "\n",
       "            setTimeout(function() {\n",
       "                var nbb_cell_id = 28;\n",
       "                var nbb_formatted_code = \"df_daughters.query(\\\"mc_nu_cc_sig\\\").query(query_select)[\\n    \\\"mc_nu_fid_vol\\\"\\n].value_counts() / len(df_daughters.query(\\\"mc_nu_cc_sig\\\").query(query_select)) * 100\";\n",
       "                var nbb_cells = Jupyter.notebook.get_cells();\n",
       "                for (var i = 0; i < nbb_cells.length; ++i) {\n",
       "                    if (nbb_cells[i].input_prompt_number == nbb_cell_id) {\n",
       "                        nbb_cells[i].set_text(nbb_formatted_code);\n",
       "                        break;\n",
       "                    }\n",
       "                }\n",
       "            }, 500);\n",
       "            "
      ],
      "text/plain": [
       "<IPython.core.display.Javascript object>"
      ]
     },
     "metadata": {},
     "output_type": "display_data"
    }
   ],
   "source": [
    "df_daughters.query(\"mc_nu_cc_sig\").query(query_select)[\n",
    "    \"mc_nu_fid_vol\"\n",
    "].value_counts() / len(df_daughters.query(\"mc_nu_cc_sig\").query(query_select)) * 100"
   ]
  },
  {
   "cell_type": "code",
   "execution_count": 32,
   "metadata": {},
   "outputs": [
    {
     "name": "stdout",
     "output_type": "stream",
     "text": [
      "selected nue per 1.32e+21POT: 95.5\n",
      "Number of electron neutrinos [50MeV-1.5GeV] passing CC inclusive filter: 44.66+/-0.68 per 1.32e+21POT.\n"
     ]
    },
    {
     "data": {
      "image/png": "[encoded data removed]",
      "text/plain": [
       "<Figure size 576x216 with 2 Axes>"
      ]
     },
     "metadata": {
      "needs_background": "light"
     },
     "output_type": "display_data"
    },
    {
     "data": {
      "application/javascript": [
       "\n",
       "            setTimeout(function() {\n",
       "                var nbb_cell_id = 32;\n",
       "                var nbb_formatted_code = \"print(\\n    \\\"selected nue per {:.3g}POT: {:.1f}\\\".format(\\n        tot_pot, sum(df_nu_event[\\\"nu_mu_cc_selected\\\"]) / scale_pot\\n    )\\n)\\nnue_pass_mask = df_nu_event[\\\"nu_mu_cc_selected\\\"] & nu_sig_mask\\nnum_nue_pass = sum(df_nu_event[\\\"event_weight\\\"][nue_pass_mask])\\nnum_nue_pass_err = np.sqrt(num_nue_pass)\\nprint(\\n    \\\"Number of electron neutrinos [50MeV-1.5GeV] passing CC inclusive filter: {0:.2f}+/-{1:.2f} per {2:.3g}POT.\\\".format(\\n        num_nue_pass / scale_pot, num_nue_pass_err / scale_pot, tot_pot\\n    )\\n)\\n\\nfig, ax = plt.subplots(ncols=2, nrows=1, figsize=(8, 3), sharex=True)\\n\\nN = 10\\nx_min = 0.05\\nx_max = 1.5\\n\\n\\nE_all = nue[\\\"events\\\"].array(\\\"mc_nu_energy\\\")[nu_sig_mask]\\npass_mask = nu_sig_mask & nue[\\\"events\\\"].array(\\\"nu_mu_cc_selected\\\")\\nE_sel = nue[\\\"events\\\"].array(\\\"mc_nu_energy\\\")[pass_mask]\\n\\nedges, edges_mid, bins, err, max_val = helper.histHelper(\\n    N, x_min, x_max, [E_sel, E_all], weights=[1 / scale_pot] * 2\\n)\\n\\nwidths = edges[1:] - edges[:-1]\\nax[0].bar(\\n    edges_mid,\\n    bins[0],\\n    lw=2,\\n    width=widths,\\n    label=r\\\"$\\\\nu_e$ CC selected: {0:.1f}+/-{1:.1f}\\\".format(\\n        num_nue_pass / scale_pot, num_nue_pass_err / scale_pot\\n    ),\\n)\\nfor m, v, e, w in zip(edges_mid, bins[0], err[0], widths):\\n    ax[0].add_patch(\\n        patches.Rectangle(\\n            (m - w / 2, v - e),\\n            w,\\n            2 * e,\\n            hatch=\\\"\\\\\\\\\\\\\\\\\\\\\\\\\\\\\\\\\\\\\\\\\\\",\\n            Fill=False,\\n            linewidth=0,\\n            alpha=0.4,\\n        )\\n    )\\nax[0].set_xlabel(r\\\"$\\\\nu_e$ True Energy [GeV]\\\")\\nax[0].set_ylabel(r\\\"Events / 145MeV\\\")\\nax[0].set_ylim(0, 10)\\nax[0].legend(loc=\\\"upper left\\\")\\nax[0].set_title(\\\"Run1 Overlay, MCC9.1\\\")\\n\\n\\n_, _, bins, _, _ = helper.histHelper(N, x_min, x_max, [E_sel, E_all])\\nfraq = bins[0] / bins[1]\\nratio = sum(bins[0]) / sum(bins[1])\\nerr = np.sqrt(fraq * (1 - fraq) / bins[1])\\nfraq = np.append(fraq, fraq[-1])\\nerr = np.append(err, err[-1])\\n\\nax[1].step(\\n    edges,\\n    fraq,\\n    where=\\\"post\\\",\\n    label=r\\\"$\\\\nu_e$ CC selected ({0:.1f}%)\\\".format(ratio * 100),\\n)\\nax[1].fill_between(edges, fraq - err, fraq + err, alpha=0.3, step=\\\"post\\\", color=\\\"C0\\\")\\nax[1].set_xlim(x_min, x_max)\\nax[1].set_ylabel(r\\\"Selection Efficiency\\\")\\nax[1].set_xlabel(r\\\"$\\\\nu_e$ True Energy [GeV]\\\")\\nax[1].set_ylim(0, 0.075)\\nax[1].set_title(\\\"MicroBooNE INTERNAL\\\")\\nax[1].legend()\\n\\nfig.tight_layout()\\nfig.savefig(outdir + \\\"unblinding_nue_E.pdf\\\")\";\n",
       "                var nbb_cells = Jupyter.notebook.get_cells();\n",
       "                for (var i = 0; i < nbb_cells.length; ++i) {\n",
       "                    if (nbb_cells[i].input_prompt_number == nbb_cell_id) {\n",
       "                        nbb_cells[i].set_text(nbb_formatted_code);\n",
       "                        break;\n",
       "                    }\n",
       "                }\n",
       "            }, 500);\n",
       "            "
      ],
      "text/plain": [
       "<IPython.core.display.Javascript object>"
      ]
     },
     "metadata": {},
     "output_type": "display_data"
    }
   ],
   "source": [
    "print(\n",
    "    \"selected nue per {:.3g}POT: {:.1f}\".format(\n",
    "        tot_pot, sum(df_nu_event[\"nu_mu_cc_selected\"]) / scale_pot\n",
    "    )\n",
    ")\n",
    "nue_pass_mask = df_nu_event[\"nu_mu_cc_selected\"] & nu_sig_mask\n",
    "num_nue_pass = sum(df_nu_event[\"event_weight\"][nue_pass_mask])\n",
    "num_nue_pass_err = np.sqrt(num_nue_pass)\n",
    "print(\n",
    "    \"Number of electron neutrinos [50MeV-1.5GeV] passing CC inclusive filter: {0:.2f}+/-{1:.2f} per {2:.3g}POT.\".format(\n",
    "        num_nue_pass / scale_pot, num_nue_pass_err / scale_pot, tot_pot\n",
    "    )\n",
    ")\n",
    "\n",
    "fig, ax = plt.subplots(ncols=2, nrows=1, figsize=(8, 3), sharex=True)\n",
    "\n",
    "N = 10\n",
    "x_min = 0.05\n",
    "x_max = 1.5\n",
    "\n",
    "\n",
    "E_all = nue[\"events\"].array(\"mc_nu_energy\")[nu_sig_mask]\n",
    "pass_mask = nu_sig_mask & nue[\"events\"].array(\"nu_mu_cc_selected\")\n",
    "E_sel = nue[\"events\"].array(\"mc_nu_energy\")[pass_mask]\n",
    "\n",
    "edges, edges_mid, bins, err, max_val = helper.histHelper(\n",
    "    N, x_min, x_max, [E_sel, E_all], weights=[1 / scale_pot] * 2\n",
    ")\n",
    "\n",
    "widths = edges[1:] - edges[:-1]\n",
    "ax[0].bar(\n",
    "    edges_mid,\n",
    "    bins[0],\n",
    "    lw=2,\n",
    "    width=widths,\n",
    "    label=r\"$\\nu_e$ CC selected: {0:.1f}+/-{1:.1f}\".format(\n",
    "        num_nue_pass / scale_pot, num_nue_pass_err / scale_pot\n",
    "    ),\n",
    ")\n",
    "for m, v, e, w in zip(edges_mid, bins[0], err[0], widths):\n",
    "    ax[0].add_patch(\n",
    "        patches.Rectangle(\n",
    "            (m - w / 2, v - e),\n",
    "            w,\n",
    "            2 * e,\n",
    "            hatch=\"\\\\\\\\\\\\\\\\\\\\\",\n",
    "            Fill=False,\n",
    "            linewidth=0,\n",
    "            alpha=0.4,\n",
    "        )\n",
    "    )\n",
    "ax[0].set_xlabel(r\"$\\nu_e$ True Energy [GeV]\")\n",
    "ax[0].set_ylabel(r\"Events / 145MeV\")\n",
    "ax[0].set_ylim(0, 10)\n",
    "ax[0].legend(loc=\"upper left\")\n",
    "ax[0].set_title(\"Run1 Overlay, MCC9.1\")\n",
    "\n",
    "\n",
    "_, _, bins, _, _ = helper.histHelper(N, x_min, x_max, [E_sel, E_all])\n",
    "fraq = bins[0] / bins[1]\n",
    "ratio = sum(bins[0]) / sum(bins[1])\n",
    "err = np.sqrt(fraq * (1 - fraq) / bins[1])\n",
    "fraq = np.append(fraq, fraq[-1])\n",
    "err = np.append(err, err[-1])\n",
    "\n",
    "ax[1].step(\n",
    "    edges,\n",
    "    fraq,\n",
    "    where=\"post\",\n",
    "    label=r\"$\\nu_e$ CC selected ({0:.1f}%)\".format(ratio * 100),\n",
    ")\n",
    "ax[1].fill_between(edges, fraq - err, fraq + err, alpha=0.3, step=\"post\", color=\"C0\")\n",
    "ax[1].set_xlim(x_min, x_max)\n",
    "ax[1].set_ylabel(r\"Selection Efficiency\")\n",
    "ax[1].set_xlabel(r\"$\\nu_e$ True Energy [GeV]\")\n",
    "ax[1].set_ylim(0, 0.075)\n",
    "ax[1].set_title(\"MicroBooNE INTERNAL\")\n",
    "ax[1].legend()\n",
    "\n",
    "fig.tight_layout()\n",
    "fig.savefig(outdir + \"unblinding_nue_E.pdf\")"
   ]
  },
  {
   "cell_type": "code",
   "execution_count": null,
   "metadata": {},
   "outputs": [],
   "source": []
  }
 ],
 "metadata": {
  "kernelspec": {
   "display_name": "uproot env",
   "language": "python",
   "name": "uproot"
  },
  "language_info": {
   "codemirror_mode": {
    "name": "ipython",
    "version": 3
   },
   "file_extension": ".py",
   "mimetype": "text/x-python",
   "name": "python",
   "nbconvert_exporter": "python",
   "pygments_lexer": "ipython3",
   "version": "3.7.4"
  }
 },
 "nbformat": 4,
 "nbformat_minor": 2
}
